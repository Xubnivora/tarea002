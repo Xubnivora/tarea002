{
 "cells": [
  {
   "cell_type": "markdown",
   "id": "7c62c5b7",
   "metadata": {},
   "source": [
    "GIT\n",
    "\n",
    "\n",
    "\n",
    "#git commit\n",
    "La cual se aplica para aplicar cambios realizados y hechos\n",
    "\n",
    "#git log \n",
    "Nos muestra el historial de cambios que hacen los usuarios\n",
    "\n",
    "#git vim document.txt\n",
    "nos permite maniupular y editar el documento txt\n",
    "\n",
    "#git diff document.txt\n",
    "permite ver la diferenciacion de los cambios que se hacen en el documento\n",
    "\n",
    "#git status\n",
    "permite analizar la aplicacion y como esta actualmente segun sus cambios\n",
    "\n",
    "#git checkout\n",
    "compila la aplicacion si continua funcionando correctamente\n",
    "\n",
    "#add animal.py\n",
    "agregar el archivo al repositorio\n",
    "\n",
    "#merge animal.py\n",
    "agregar el archivo al repositorio\n",
    "\n",
    "#git remote\n",
    "se mete a otro repositorio remoto si esta configurado\n",
    "\n",
    "#git clone\n",
    "se clona el elemento seleccionado\n",
    "\n",
    "#git branch\n",
    "\n",
    "\n",
    "#git push\n",
    "\n",
    "\n",
    "#git bisect\n"
   ]
  },
  {
   "cell_type": "code",
   "execution_count": 6,
   "metadata": {},
   "outputs": [
    {
     "name": "stdout",
     "output_type": "stream",
     "text": [
      "Overwriting jupiterpython.py\n"
     ]
    }
   ],
   "source": [
    " %%writefile jupiterpython.py \n",
    "x=20\n",
    "x=x**2 \n",
    "print(x)\n",
    "\n"
   ]
  },
  {
   "cell_type": "code",
   "execution_count": 23,
   "id": "f6281105",
   "metadata": {},
   "source": [
    "%%git add -m jupiterpython.py "
   ]
  },
  {
   "cell_type": "code",
   "execution_count": null,
   "id": "1e702c36",
   "metadata": {},
   "outputs": [],
   "source": []
  }
 ],
 "metadata": {
  "kernelspec": {
   "display_name": "Python 3 (ipykernel)",
   "language": "python",
   "name": "python3"
  },
  "language_info": {
   "codemirror_mode": {
    "name": "ipython",
    "version": 3
   },
   "file_extension": ".py",
   "mimetype": "text/x-python",
   "name": "python",
   "nbconvert_exporter": "python",
   "pygments_lexer": "ipython3",
   "version": "3.9.7"
  }
 },
 "nbformat": 4,
 "nbformat_minor": 5
}
